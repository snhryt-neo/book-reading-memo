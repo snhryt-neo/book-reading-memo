{
 "cells": [
  {
   "cell_type": "markdown",
   "metadata": {},
   "source": [
    "# 2 決定分析の基本"
   ]
  },
  {
   "cell_type": "code",
   "execution_count": 1,
   "metadata": {},
   "outputs": [],
   "source": [
    "import pandas as pd\n",
    "import numpy as np\n",
    "\n",
    "# DataFrame の全角文字の出力をきれいにする\n",
    "pd.set_option('display.unicode.east_asian_width', True)"
   ]
  },
  {
   "cell_type": "markdown",
   "metadata": {},
   "source": [
    "## 2.1 決定分析の初歩　〜 2.3 決定分析における Python の利用\n",
    "\n",
    "- ケース\n",
    "  - ある工場である製品を作っている\n",
    "  - 工場には製品を作るための機械が2台ある\n",
    "    - 機械を多く動かせば動かすほどたくさんの製品が作れるが、動かす機械の台数が増えると稼働費用が増える\n",
    "    - 機械をまったく稼働させない場合も、工場を維持する固定費は発生\n",
    "  - 製品の需要量は月ごとに変動\n",
    "    - 需要量を超える製品を作っても、売れないので収入は増えない\n",
    "    - 売れ残った製品は月末にすべて廃棄されるのでムダになる\n",
    "  - 機械の稼働台数は1ヶ月おきに見直す\n",
    "- モデル化\n",
    "  - 選択肢: 機械の稼働台数（0台、1台、2台）\n",
    "    - $a_j ∈ A=\\{0, 1, 2\\}$\n",
    "    - （ $a$ は Action の頭文字からとっている）\n",
    "  - 自然の状態: 製品の需要量（好況、不況）\n",
    "    - $θ_i ∈ Θ=\\{好況, 不況\\}$\n",
    "  - 結果（利得）\n",
    "    - $c(a_j, θ_i)$\n",
    "    - （ $c$ は Consequence の頭文字からとっている）\n",
    "  - 意思決定問題\n",
    "    - $D = \\{A, Θ, c\\}$"
   ]
  },
  {
   "cell_type": "markdown",
   "metadata": {},
   "source": [
    "具体的に以下のような利得行列が得られたとする\n",
    "\n",
    "| | 0台稼働 $a_1$ | 1台稼働 $a_2$ | 2台稼働 $a_3$ |\n",
    "| :---: | :---: | :---: | :---: |\n",
    "| 好況 $θ_1$ | $c(a_1, θ_1) = -100$ | $c(a_2, θ_1) = 300$ | $c(a_3, θ_1) = 700$ | \n",
    "| 好況 $θ_2$ | $c(a_1, θ_2) = -100$ | $c(a_2, θ_2) = 300$ | $c(a_3, θ_2) = -300$ |\n",
    "\n",
    "この場合、好況・不況関係なく、0台稼働よりも1台稼働のほうが利得が高い\n",
    "→ 1台稼働を選択することは、0台稼働を「優越」する"
   ]
  },
  {
   "cell_type": "markdown",
   "metadata": {},
   "source": [
    "### 決定基準\n",
    "※ 伝統的にしばしば用いられ、意味付けが明確なもの5種類\n",
    "\n",
    "| 基準名 | 概要 | 数式表現 | 何台稼働がベスト？ |\n",
    "| :---: | :--- | :---: | :---: |\n",
    "| Maximax | 最大利得が発生する自然の状態を仮定したうえで、そのときの利得を最大にするように選択肢を選ぶ。<br>**最も楽観的な決定基準** | $ a^{\\text{max}} = \\text{argmax}_{a_j} \\lambda_{\\text{max}}(a_j) $ <br> $ \\lambda_{\\text{max}}(a_j) = \\text{max}_{\\theta_i} c(a_j, \\theta_i) $ | 2 |\n",
    "| Maximin | 最小利得が発生する自然の状態を仮定したうえで、そのときの利得を最大にするように選択肢を選ぶ。<br>**最も悲観的な決定基準** | $ a^{\\text{min}} = \\text{argmax}_{a_j} \\lambda_{\\text{min}}(a_j) $ <br> $ \\lambda_{\\text{min}}(a_j) = \\text{min}_{\\theta_i} c(a_j, \\theta_i) $ | 1 |\n",
    "| Hurwicz（ハーヴィッツ） | 楽観係数と呼ばれるハイパーパラメータによってMaximax, Maximinの重みを変える。<br>**極めて主観的な決定基準** | $ a^{\\text{Hurwicz}} = \\text{argmax}_{a_j} \\lambda_{\\text{Hurwicz}}(a_j) $ <br> $ \\lambda_{\\text{Hurwicz}}(a_j) = \\alpha \\cdot \\text{max}_{\\theta_i}[c(a_j, \\theta_i)] + (1 - \\alpha) \\cdot \\text{min}_{\\theta_i}[c(a_j, \\theta_i)] $ | 1でも2でもどちらでもよい |\n",
    "| Minimax regret<br>= Minimax<br>= Savage | 「自然の状態ごとに見た最大利得と比較した差分（=リグレット）の最大値」を最小にする | $ a^{\\text{regret}} = \\text{argmin}_{a_j} \\lambda_{\\text{max\\_regret}}(a_j) $ <br> $ \\lambda_{\\text{max\\_regret}}(a_j) = \\text{max}_{\\theta_i} r(a_j, \\theta_i)$ <br> $ r(a_j, \\theta_i) = \\text{max}_{a_j}[c(a_j, \\theta_i)] - c(a_j, \\theta_i) $| 1 |\n",
    "| Laplace（ラプラス） | 自然の状態がすべて等しい確率で出現すると考えて、利得の期待値を最大にするように選択肢を選ぶ | $ a^{\\text{Laplace}} = \\text{argmax}_{a_j} \\lambda_{\\text{Laplace}}(a_j)$ <br> $ \\lambda_{\\text{Laplace}}(a_j) = \\frac{1}{\\# Θ} \\Sigma_{i ∈ \\# Θ} c(a_j, \\theta_i) $ | 1 |"
   ]
  },
  {
   "cell_type": "markdown",
   "metadata": {},
   "source": [
    "### やってみる"
   ]
  },
  {
   "cell_type": "markdown",
   "metadata": {},
   "source": [
    "#### 準備"
   ]
  },
  {
   "cell_type": "markdown",
   "metadata": {},
   "source": [
    "##### 売上行列"
   ]
  },
  {
   "cell_type": "code",
   "execution_count": 2,
   "metadata": {},
   "outputs": [
    {
     "data": {
      "text/html": [
       "<div>\n",
       "<style scoped>\n",
       "    .dataframe tbody tr th:only-of-type {\n",
       "        vertical-align: middle;\n",
       "    }\n",
       "\n",
       "    .dataframe tbody tr th {\n",
       "        vertical-align: top;\n",
       "    }\n",
       "\n",
       "    .dataframe thead th {\n",
       "        text-align: right;\n",
       "    }\n",
       "</style>\n",
       "<table border=\"1\" class=\"dataframe\">\n",
       "  <thead>\n",
       "    <tr style=\"text-align: right;\">\n",
       "      <th></th>\n",
       "      <th>0台</th>\n",
       "      <th>1台</th>\n",
       "      <th>2台</th>\n",
       "    </tr>\n",
       "  </thead>\n",
       "  <tbody>\n",
       "    <tr>\n",
       "      <th>好況</th>\n",
       "      <td>0.0</td>\n",
       "      <td>1000.0</td>\n",
       "      <td>2000.0</td>\n",
       "    </tr>\n",
       "    <tr>\n",
       "      <th>不況</th>\n",
       "      <td>0.0</td>\n",
       "      <td>1000.0</td>\n",
       "      <td>1000.0</td>\n",
       "    </tr>\n",
       "  </tbody>\n",
       "</table>\n",
       "</div>"
      ],
      "text/plain": [
       "      0台     1台     2台\n",
       "好況  0.0  1000.0  2000.0\n",
       "不況  0.0  1000.0  1000.0"
      ]
     },
     "execution_count": 2,
     "metadata": {},
     "output_type": "execute_result"
    }
   ],
   "source": [
    "# 利得を計算する際のパラメータ\n",
    "# =========================================\n",
    "# 以下、単位はすべて「万円」\n",
    "FIXED_COST = 100 # 工場の固定費用\n",
    "RUN_COST = 600 # 機械1台の稼働コスト\n",
    "SALE_PRICE = 0.2 # 製品1つの販売価格\n",
    "\n",
    "# 以下、単位はすべて「個」\n",
    "MACHINE_ABILITY = 5_000 # 機械1台で作られる製品数\n",
    "DEMAND_BOOM = 10_000 # 好況時の需要量\n",
    "DEMAND_SLUMP = 5_000 # 不況時の需要量\n",
    "# =========================================\n",
    "\n",
    "# 出荷される製品の個数\n",
    "num_product_df = pd.DataFrame({\n",
    "    \"0台\": [\n",
    "        0,\n",
    "        0\n",
    "    ],\n",
    "    \"1台\": [\n",
    "        min([MACHINE_ABILITY, DEMAND_BOOM]),\n",
    "        min([MACHINE_ABILITY, DEMAND_SLUMP]),\n",
    "    ],\n",
    "    \"2台\": [\n",
    "        min([2 * MACHINE_ABILITY, DEMAND_BOOM]),\n",
    "        min([2 * MACHINE_ABILITY, DEMAND_SLUMP])\n",
    "    ]\n",
    "})\n",
    "num_product_df.index = [\"好況\", \"不況\"]\n",
    "\n",
    "# 売上行列\n",
    "sales_df = num_product_df * SALE_PRICE\n",
    "sales_df"
   ]
  },
  {
   "cell_type": "markdown",
   "metadata": {},
   "source": [
    "##### 製造コスト"
   ]
  },
  {
   "cell_type": "code",
   "execution_count": 3,
   "metadata": {},
   "outputs": [
    {
     "data": {
      "text/html": [
       "<div>\n",
       "<style scoped>\n",
       "    .dataframe tbody tr th:only-of-type {\n",
       "        vertical-align: middle;\n",
       "    }\n",
       "\n",
       "    .dataframe tbody tr th {\n",
       "        vertical-align: top;\n",
       "    }\n",
       "\n",
       "    .dataframe thead th {\n",
       "        text-align: right;\n",
       "    }\n",
       "</style>\n",
       "<table border=\"1\" class=\"dataframe\">\n",
       "  <thead>\n",
       "    <tr style=\"text-align: right;\">\n",
       "      <th></th>\n",
       "      <th>0台</th>\n",
       "      <th>1台</th>\n",
       "      <th>2台</th>\n",
       "    </tr>\n",
       "  </thead>\n",
       "  <tbody>\n",
       "    <tr>\n",
       "      <th>好況</th>\n",
       "      <td>100</td>\n",
       "      <td>700</td>\n",
       "      <td>1300</td>\n",
       "    </tr>\n",
       "    <tr>\n",
       "      <th>不況</th>\n",
       "      <td>100</td>\n",
       "      <td>700</td>\n",
       "      <td>1300</td>\n",
       "    </tr>\n",
       "  </tbody>\n",
       "</table>\n",
       "</div>"
      ],
      "text/plain": [
       "      0台  1台   2台\n",
       "好況  100  700  1300\n",
       "不況  100  700  1300"
      ]
     },
     "execution_count": 3,
     "metadata": {},
     "output_type": "execute_result"
    }
   ],
   "source": [
    "run_cost_df = pd.DataFrame({\n",
    "    \"0台\": np.repeat(FIXED_COST, 2),\n",
    "    \"1台\": np.repeat(FIXED_COST + RUN_COST, 2),\n",
    "    \"2台\": np.repeat(FIXED_COST + RUN_COST * 2, 2),\n",
    "})\n",
    "run_cost_df.index = [\"好況\", \"不況\"]\n",
    "run_cost_df"
   ]
  },
  {
   "cell_type": "markdown",
   "metadata": {},
   "source": [
    "##### 利得行列"
   ]
  },
  {
   "cell_type": "code",
   "execution_count": 4,
   "metadata": {},
   "outputs": [
    {
     "data": {
      "text/html": [
       "<div>\n",
       "<style scoped>\n",
       "    .dataframe tbody tr th:only-of-type {\n",
       "        vertical-align: middle;\n",
       "    }\n",
       "\n",
       "    .dataframe tbody tr th {\n",
       "        vertical-align: top;\n",
       "    }\n",
       "\n",
       "    .dataframe thead th {\n",
       "        text-align: right;\n",
       "    }\n",
       "</style>\n",
       "<table border=\"1\" class=\"dataframe\">\n",
       "  <thead>\n",
       "    <tr style=\"text-align: right;\">\n",
       "      <th></th>\n",
       "      <th>0台</th>\n",
       "      <th>1台</th>\n",
       "      <th>2台</th>\n",
       "    </tr>\n",
       "  </thead>\n",
       "  <tbody>\n",
       "    <tr>\n",
       "      <th>好況</th>\n",
       "      <td>-100.0</td>\n",
       "      <td>300.0</td>\n",
       "      <td>700.0</td>\n",
       "    </tr>\n",
       "    <tr>\n",
       "      <th>不況</th>\n",
       "      <td>-100.0</td>\n",
       "      <td>300.0</td>\n",
       "      <td>-300.0</td>\n",
       "    </tr>\n",
       "  </tbody>\n",
       "</table>\n",
       "</div>"
      ],
      "text/plain": [
       "        0台    1台    2台\n",
       "好況 -100.0  300.0  700.0\n",
       "不況 -100.0  300.0 -300.0"
      ]
     },
     "execution_count": 4,
     "metadata": {},
     "output_type": "execute_result"
    }
   ],
   "source": [
    "payoff_df = sales_df - run_cost_df\n",
    "payoff_df"
   ]
  },
  {
   "cell_type": "markdown",
   "metadata": {},
   "source": [
    "#### 各基準の計算"
   ]
  },
  {
   "cell_type": "code",
   "execution_count": 5,
   "metadata": {},
   "outputs": [
    {
     "data": {
      "text/html": [
       "<div>\n",
       "<style scoped>\n",
       "    .dataframe tbody tr th:only-of-type {\n",
       "        vertical-align: middle;\n",
       "    }\n",
       "\n",
       "    .dataframe tbody tr th {\n",
       "        vertical-align: top;\n",
       "    }\n",
       "\n",
       "    .dataframe thead th {\n",
       "        text-align: right;\n",
       "    }\n",
       "</style>\n",
       "<table border=\"1\" class=\"dataframe\">\n",
       "  <thead>\n",
       "    <tr style=\"text-align: right;\">\n",
       "      <th></th>\n",
       "      <th>0台</th>\n",
       "      <th>1台</th>\n",
       "      <th>2台</th>\n",
       "    </tr>\n",
       "  </thead>\n",
       "  <tbody>\n",
       "    <tr>\n",
       "      <th>好況</th>\n",
       "      <td>-100.0</td>\n",
       "      <td>300.0</td>\n",
       "      <td>700.0</td>\n",
       "    </tr>\n",
       "    <tr>\n",
       "      <th>不況</th>\n",
       "      <td>-100.0</td>\n",
       "      <td>300.0</td>\n",
       "      <td>-300.0</td>\n",
       "    </tr>\n",
       "  </tbody>\n",
       "</table>\n",
       "</div>"
      ],
      "text/plain": [
       "        0台    1台    2台\n",
       "好況 -100.0  300.0  700.0\n",
       "不況 -100.0  300.0 -300.0"
      ]
     },
     "execution_count": 5,
     "metadata": {},
     "output_type": "execute_result"
    }
   ],
   "source": [
    "def calc_payoff_table(fixed_cost=100, run_cost=600, sale_price=0.2, machine_ability=5_000, demand_boom=10_000, demand_slump=5_000):\n",
    "    # 出荷される製品の個数\n",
    "    num_product_df = pd.DataFrame({\n",
    "        \"0台\": [\n",
    "            0,\n",
    "            0\n",
    "        ],\n",
    "        \"1台\": [\n",
    "            min([machine_ability, demand_boom]),\n",
    "            min([machine_ability, demand_slump]),\n",
    "        ],\n",
    "        \"2台\": [\n",
    "            min([2 * machine_ability, demand_boom]),\n",
    "            min([2 * machine_ability, demand_slump])\n",
    "        ]\n",
    "    })\n",
    "    num_product_df.index = [\"好況\", \"不況\"]\n",
    "\n",
    "    # 売上行列\n",
    "    sales_df = num_product_df * sale_price\n",
    "\n",
    "    # 製造コスト\n",
    "    run_cost_df = pd.DataFrame({\n",
    "        \"0台\": np.repeat(fixed_cost, 2),\n",
    "        \"1台\": np.repeat(fixed_cost + run_cost, 2),\n",
    "        \"2台\": np.repeat(fixed_cost + run_cost * 2, 2),\n",
    "    })\n",
    "    run_cost_df.index = [\"好況\", \"不況\"]\n",
    "\n",
    "    # 利得行列\n",
    "    payoff_df = sales_df - run_cost_df\n",
    "    return payoff_df\n",
    "\n",
    "payoff_df = calc_payoff_table()\n",
    "payoff_df"
   ]
  },
  {
   "cell_type": "markdown",
   "metadata": {},
   "source": [
    "##### Maximax, Maximin"
   ]
  },
  {
   "cell_type": "code",
   "execution_count": 6,
   "metadata": {},
   "outputs": [
    {
     "name": "stdout",
     "output_type": "stream",
     "text": [
      "Maximax: ['2台']\n",
      "Maximin: ['1台']\n"
     ]
    }
   ],
   "source": [
    "# idxmax だと最大値が複数ある場合、最初に見つかったものだけを返すため、このような関数を作成している\n",
    "# ntoe.nkmk.me にも同じようにしろと記載あり: https://note.nkmk.me/python-pandas-idxmax-idxmin/\n",
    "\n",
    "def get_argmax_list(series):\n",
    "    return list((series[series == series.max()].index))\n",
    "\n",
    "print(f\"Maximax: {get_argmax_list(payoff_df.max())}\")\n",
    "print(f\"Maximin: {get_argmax_list(payoff_df.min())}\")"
   ]
  },
  {
   "cell_type": "markdown",
   "metadata": {},
   "source": [
    "##### Hurwicz"
   ]
  },
  {
   "cell_type": "code",
   "execution_count": 7,
   "metadata": {},
   "outputs": [
    {
     "name": "stdout",
     "output_type": "stream",
     "text": [
      "Hurwicz (alpha=0.6): ['1台', '2台']\n",
      "Hurwicz (alpha=0.7): ['2台']\n"
     ]
    }
   ],
   "source": [
    "def hurwicz(payoff_df, alpha=0.6): # alpha は楽観係数\n",
    "    return payoff_df.max() * alpha + payoff_df.min() * (1 - alpha)\n",
    "\n",
    "print(f\"Hurwicz (alpha=0.6): {get_argmax_list(hurwicz(payoff_df))}\")\n",
    "print(f\"Hurwicz (alpha=0.7): {get_argmax_list(hurwicz(payoff_df, alpha=0.7))}\")"
   ]
  },
  {
   "cell_type": "markdown",
   "metadata": {},
   "source": [
    "##### Minimax Regret"
   ]
  },
  {
   "cell_type": "code",
   "execution_count": 8,
   "metadata": {},
   "outputs": [
    {
     "data": {
      "text/html": [
       "<div>\n",
       "<style scoped>\n",
       "    .dataframe tbody tr th:only-of-type {\n",
       "        vertical-align: middle;\n",
       "    }\n",
       "\n",
       "    .dataframe tbody tr th {\n",
       "        vertical-align: top;\n",
       "    }\n",
       "\n",
       "    .dataframe thead th {\n",
       "        text-align: right;\n",
       "    }\n",
       "</style>\n",
       "<table border=\"1\" class=\"dataframe\">\n",
       "  <thead>\n",
       "    <tr style=\"text-align: right;\">\n",
       "      <th></th>\n",
       "      <th>0台</th>\n",
       "      <th>1台</th>\n",
       "      <th>2台</th>\n",
       "    </tr>\n",
       "  </thead>\n",
       "  <tbody>\n",
       "    <tr>\n",
       "      <th>好況</th>\n",
       "      <td>700.0</td>\n",
       "      <td>700.0</td>\n",
       "      <td>700.0</td>\n",
       "    </tr>\n",
       "    <tr>\n",
       "      <th>不況</th>\n",
       "      <td>300.0</td>\n",
       "      <td>300.0</td>\n",
       "      <td>300.0</td>\n",
       "    </tr>\n",
       "  </tbody>\n",
       "</table>\n",
       "</div>"
      ],
      "text/plain": [
       "        0台    1台    2台\n",
       "好況  700.0  700.0  700.0\n",
       "不況  300.0  300.0  300.0"
      ]
     },
     "execution_count": 8,
     "metadata": {},
     "output_type": "execute_result"
    }
   ],
   "source": [
    "def get_argmin_list(series):\n",
    "    return list((series[series == series.min()].index))\n",
    "\n",
    "best_df = pd.concat(\n",
    "    [payoff_df.max(axis=1)] * payoff_df.shape[1], axis=1\n",
    ")\n",
    "best_df.columns = payoff_df.columns\n",
    "best_df"
   ]
  },
  {
   "cell_type": "code",
   "execution_count": 9,
   "metadata": {},
   "outputs": [
    {
     "data": {
      "text/html": [
       "<div>\n",
       "<style scoped>\n",
       "    .dataframe tbody tr th:only-of-type {\n",
       "        vertical-align: middle;\n",
       "    }\n",
       "\n",
       "    .dataframe tbody tr th {\n",
       "        vertical-align: top;\n",
       "    }\n",
       "\n",
       "    .dataframe thead th {\n",
       "        text-align: right;\n",
       "    }\n",
       "</style>\n",
       "<table border=\"1\" class=\"dataframe\">\n",
       "  <thead>\n",
       "    <tr style=\"text-align: right;\">\n",
       "      <th></th>\n",
       "      <th>0台</th>\n",
       "      <th>1台</th>\n",
       "      <th>2台</th>\n",
       "    </tr>\n",
       "  </thead>\n",
       "  <tbody>\n",
       "    <tr>\n",
       "      <th>好況</th>\n",
       "      <td>800.0</td>\n",
       "      <td>400.0</td>\n",
       "      <td>0.0</td>\n",
       "    </tr>\n",
       "    <tr>\n",
       "      <th>不況</th>\n",
       "      <td>400.0</td>\n",
       "      <td>0.0</td>\n",
       "      <td>600.0</td>\n",
       "    </tr>\n",
       "  </tbody>\n",
       "</table>\n",
       "</div>"
      ],
      "text/plain": [
       "        0台    1台    2台\n",
       "好況  800.0  400.0    0.0\n",
       "不況  400.0    0.0  600.0"
      ]
     },
     "execution_count": 9,
     "metadata": {},
     "output_type": "execute_result"
    }
   ],
   "source": [
    "regret_df = best_df - payoff_df\n",
    "regret_df"
   ]
  },
  {
   "cell_type": "code",
   "execution_count": 10,
   "metadata": {},
   "outputs": [
    {
     "name": "stdout",
     "output_type": "stream",
     "text": [
      "Minimax regret: ['1台']\n"
     ]
    }
   ],
   "source": [
    "print(f\"Minimax regret: {get_argmin_list(regret_df.max())}\")"
   ]
  },
  {
   "cell_type": "markdown",
   "metadata": {},
   "source": [
    "##### Laplace"
   ]
  },
  {
   "cell_type": "code",
   "execution_count": 11,
   "metadata": {},
   "outputs": [
    {
     "name": "stdout",
     "output_type": "stream",
     "text": [
      "Laplace: ['1台']\n"
     ]
    }
   ],
   "source": [
    "print(f\"Laplace: {get_argmax_list(payoff_df.mean())}\")"
   ]
  },
  {
   "cell_type": "markdown",
   "metadata": {},
   "source": [
    "### 感度分析\n",
    "\n",
    "- 感度分析: 「モデルの前提となった数値の変化が、意思決定の結果にどれほど影響を与えるか」を調べる作業\n",
    "  - 前提となった数値が少し変わっただけで意思決定の結果が大きく変わるようなら、決定基準から得られた結果を採択するのには慎重になる必要がある\n",
    "- 以下では、機械1台のコストのみ変動させた場合の Minimax regret で感度分析を試してみる"
   ]
  },
  {
   "cell_type": "code",
   "execution_count": 12,
   "metadata": {},
   "outputs": [],
   "source": [
    "def minimax_regret(payoff_df):\n",
    "    best_df = pd.concat(\n",
    "        [payoff_df.max(axis=1)] * payoff_df.shape[1], axis=1\n",
    "    )\n",
    "    best_df.columns = payoff_df.columns\n",
    "    regret_df = best_df - payoff_df\n",
    "    return regret_df.max()"
   ]
  },
  {
   "cell_type": "code",
   "execution_count": 13,
   "metadata": {},
   "outputs": [
    {
     "name": "stdout",
     "output_type": "stream",
     "text": [
      "Minimax regret (run_cost=625): ['1台']\n",
      "Minimax regret (run_cost=575): ['1台']\n",
      "Minimax regret (run_cost=500): ['1台', '2台']\n"
     ]
    }
   ],
   "source": [
    "payoff2 = calc_payoff_table(run_cost=625) # 機械1台の稼働コストを +25万円\n",
    "payoff3 = calc_payoff_table(run_cost=575) # 機械1台の稼働コストを -25万円\n",
    "payoff4 = calc_payoff_table(run_cost=500) # 機械1台の稼働コストを -100万円\n",
    "\n",
    "print(f\"Minimax regret (run_cost=625): {get_argmin_list(minimax_regret(payoff2))}\")\n",
    "print(f\"Minimax regret (run_cost=575): {get_argmin_list(minimax_regret(payoff3))}\")\n",
    "print(f\"Minimax regret (run_cost=500): {get_argmin_list(minimax_regret(payoff4))}\")"
   ]
  },
  {
   "cell_type": "markdown",
   "metadata": {},
   "source": [
    "すなわち、今回の例では1台あたりの稼働コストに100万円ほど想定誤差があると、意思決定の結果が変わってしまう"
   ]
  }
 ],
 "metadata": {
  "kernelspec": {
   "display_name": ".venv",
   "language": "python",
   "name": "python3"
  },
  "language_info": {
   "codemirror_mode": {
    "name": "ipython",
    "version": 3
   },
   "file_extension": ".py",
   "mimetype": "text/x-python",
   "name": "python",
   "nbconvert_exporter": "python",
   "pygments_lexer": "ipython3",
   "version": "3.12.1"
  }
 },
 "nbformat": 4,
 "nbformat_minor": 2
}
